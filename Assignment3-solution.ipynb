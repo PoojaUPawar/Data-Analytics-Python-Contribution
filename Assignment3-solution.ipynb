{
 "cells": [
  {
   "cell_type": "markdown",
   "metadata": {},
   "source": [
    "# HW3"
   ]
  },
  {
   "cell_type": "markdown",
   "metadata": {},
   "source": [
    "### due on 7/20/2018 "
   ]
  },
  {
   "cell_type": "markdown",
   "metadata": {},
   "source": [
    "<b>Instructions:</b> Write your answers in the empty code cells below."
   ]
  },
  {
   "cell_type": "markdown",
   "metadata": {},
   "source": [
    "<b>Penalties:</b> You will incur penalties if:\n",
    "<ul>\n",
    "<li>Your code is wrong</li>\n",
    "<li>Your code does not work on different data</li>\n",
    "<li>You use for loops (unless explicitly permitted)</li>\n",
    "</ul>"
   ]
  },
  {
   "cell_type": "markdown",
   "metadata": {},
   "source": [
    "## Problem"
   ]
  },
  {
   "cell_type": "markdown",
   "metadata": {},
   "source": [
    "Start by executing the following code, which creates a Series object <b>stock</b> of share prices of Nvidia. "
   ]
  },
  {
   "cell_type": "code",
   "execution_count": 1,
   "metadata": {},
   "outputs": [],
   "source": [
    "import pandas as pd\n",
    "import numpy as np\n",
    "data = pd.read_csv('NVDA.csv',index_col=0)\n",
    "#data.index=data.index.astype(np.datetime64)\n",
    "stock = data['Close']"
   ]
  },
  {
   "cell_type": "code",
   "execution_count": 2,
   "metadata": {},
   "outputs": [
    {
     "name": "stdout",
     "output_type": "stream",
     "text": [
      "Populating the interactive namespace from numpy and matplotlib\n"
     ]
    },
    {
     "data": {
      "text/plain": [
       "<matplotlib.axes._subplots.AxesSubplot at 0x244846fd5c0>"
      ]
     },
     "execution_count": 2,
     "metadata": {},
     "output_type": "execute_result"
    },
    {
     "data": {
      "image/png": "[encoded data removed]",
      "text/plain": [
       "<Figure size 432x288 with 1 Axes>"
      ]
     },
     "metadata": {},
     "output_type": "display_data"
    }
   ],
   "source": [
    "%pylab inline\n",
    "stock.plot()"
   ]
  },
  {
   "cell_type": "markdown",
   "metadata": {},
   "source": [
    "Use the Series <i>stock</i> to answer the following questions."
   ]
  },
  {
   "cell_type": "markdown",
   "metadata": {},
   "source": [
    "### Question 1\n"
   ]
  },
  {
   "cell_type": "markdown",
   "metadata": {},
   "source": [
    "What was the closing price on Jul 2, 2012?"
   ]
  },
  {
   "cell_type": "code",
   "execution_count": 6,
   "metadata": {},
   "outputs": [
    {
     "data": {
      "text/plain": [
       "13.45"
      ]
     },
     "execution_count": 6,
     "metadata": {},
     "output_type": "execute_result"
    }
   ],
   "source": [
    "data.loc['2012-07-02','Close']"
   ]
  },
  {
   "cell_type": "markdown",
   "metadata": {},
   "source": [
    "### Question 2"
   ]
  },
  {
   "cell_type": "markdown",
   "metadata": {},
   "source": [
    "Find the ten largest <b>one-day % drops</b> (in % compared to the closing cost of the previous trading day). Make sure that your output is a Series object that shows both date and the % drop. "
   ]
  },
  {
   "cell_type": "code",
   "execution_count": 46,
   "metadata": {
    "scrolled": true
   },
   "outputs": [
    {
     "data": {
      "text/plain": [
       "Date\n",
       "2004-08-05   -35.233519\n",
       "2002-07-30   -31.750929\n",
       "2008-07-02   -30.726571\n",
       "2000-03-13   -26.214408\n",
       "2002-11-07   -21.924392\n",
       "2003-08-07   -19.689110\n",
       "2008-02-13   -16.321240\n",
       "2000-11-29   -16.062180\n",
       "2002-06-18   -15.664775\n",
       "2001-01-04   -14.971462\n",
       "Name: Close, dtype: float64"
      ]
     },
     "execution_count": 46,
     "metadata": {},
     "output_type": "execute_result"
    }
   ],
   "source": [
    "((stock.shift(-1)-stock)/stock*100).nsmallest(10)"
   ]
  },
  {
   "cell_type": "markdown",
   "metadata": {},
   "source": [
    "### Question 3"
   ]
  },
  {
   "cell_type": "markdown",
   "metadata": {},
   "source": [
    "In which days did we observe that the price has increased of at least 60% within the 9 preceding trading sessions? Report your result as a Series (d,gain) where <i>d</i> is the trading session date when the increase was observed and <i>gain</i> is the maximum percentage gain (%) observed over the 9 days preceding session <i>d</i>. <i>Hint:</i> use a **rolling** minimum"
   ]
  },
  {
   "cell_type": "code",
   "execution_count": 74,
   "metadata": {
    "scrolled": true
   },
   "outputs": [],
   "source": [
    "diff=stock-stock.rolling(10).min()\n",
    "increased_price=diff/stock.rolling(10).min()*100"
   ]
  },
  {
   "cell_type": "code",
   "execution_count": 76,
   "metadata": {},
   "outputs": [
    {
     "data": {
      "text/plain": [
       "Date\n",
       "2000-02-18     77.011484\n",
       "2000-02-22     64.263296\n",
       "2000-02-23     61.162070\n",
       "2000-03-09     73.112067\n",
       "2000-03-10    103.667739\n",
       "2000-03-13    157.605178\n",
       "2000-03-14     90.075506\n",
       "2000-03-15     82.308515\n",
       "2000-03-16     60.977436\n",
       "2000-03-17     70.726503\n",
       "2001-01-11     60.334040\n",
       "2001-10-12     69.304849\n",
       "2001-10-15     68.551093\n",
       "Name: Close, dtype: float64"
      ]
     },
     "execution_count": 76,
     "metadata": {},
     "output_type": "execute_result"
    }
   ],
   "source": [
    "increased_price[increased_price >=60]"
   ]
  },
  {
   "cell_type": "markdown",
   "metadata": {},
   "source": [
    "### Question 4"
   ]
  },
  {
   "cell_type": "markdown",
   "metadata": {
    "collapsed": true
   },
   "source": [
    "What was the **worst** possible \"buy&sell\" operation? Find the two days x and y so that the % loss resulting from buying in x and selling in y (with y after x) is maximized. Your code should work for any data. <i>Hint:</i> Use <b>cummax</b> or method <b>cummin</b>. **Cummax/Cummax** returns the maximum/minimum value encountered so far. Make sure to return the trading days x and y, as well as the % loss resulting from buying in x and selling in y."
   ]
  },
  {
   "cell_type": "code",
   "execution_count": 147,
   "metadata": {},
   "outputs": [
    {
     "data": {
      "text/plain": [
       "Date\n",
       "2018-04-05    221.380005\n",
       "2018-04-04    221.380005\n",
       "2018-04-03    221.380005\n",
       "2018-04-02    221.050003\n",
       "2018-03-29    221.050003\n",
       "2018-03-28    221.050003\n",
       "2018-03-27    221.050003\n",
       "2018-03-26    221.050003\n",
       "2018-03-23    221.050003\n",
       "2018-03-22    221.050003\n",
       "2018-03-21    221.050003\n",
       "2018-03-20    221.050003\n",
       "2018-03-19    221.050003\n",
       "2018-03-16    221.050003\n",
       "2018-03-15    221.050003\n",
       "2018-03-14    221.050003\n",
       "2018-03-13    221.050003\n",
       "2018-03-12    221.050003\n",
       "2018-03-09    221.050003\n",
       "2018-03-08    221.050003\n",
       "2018-03-07    221.050003\n",
       "2018-03-06    221.050003\n",
       "2018-03-05    221.050003\n",
       "2018-03-02    221.050003\n",
       "2018-03-01    221.050003\n",
       "2018-02-28    221.050003\n",
       "2018-02-27    221.050003\n",
       "2018-02-26    221.050003\n",
       "2018-02-23    221.050003\n",
       "2018-02-22    221.050003\n",
       "                 ...    \n",
       "1999-03-05      1.364583\n",
       "1999-03-04      1.364583\n",
       "1999-03-03      1.364583\n",
       "1999-03-02      1.364583\n",
       "1999-03-01      1.364583\n",
       "1999-02-26      1.364583\n",
       "1999-02-25      1.364583\n",
       "1999-02-24      1.364583\n",
       "1999-02-23      1.364583\n",
       "1999-02-22      1.364583\n",
       "1999-02-19      1.364583\n",
       "1999-02-18      1.364583\n",
       "1999-02-17      1.364583\n",
       "1999-02-16      1.364583\n",
       "1999-02-12      1.364583\n",
       "1999-02-11      1.364583\n",
       "1999-02-10      1.364583\n",
       "1999-02-09      1.364583\n",
       "1999-02-08      1.364583\n",
       "1999-02-05      1.364583\n",
       "1999-02-04      1.364583\n",
       "1999-02-03      1.364583\n",
       "1999-02-02      1.364583\n",
       "1999-02-01      1.364583\n",
       "1999-01-29      1.364583\n",
       "1999-01-28      1.364583\n",
       "1999-01-27      1.364583\n",
       "1999-01-26      1.364583\n",
       "1999-01-25      1.364583\n",
       "1999-01-22      1.364583\n",
       "Name: Close, Length: 4832, dtype: float64"
      ]
     },
     "execution_count": 147,
     "metadata": {},
     "output_type": "execute_result"
    }
   ],
   "source": [
    "buy=stock.sort_index(ascending=False).cummin()\n",
    "buy"
   ]
  },
  {
   "cell_type": "code",
   "execution_count": 151,
   "metadata": {},
   "outputs": [
    {
     "data": {
      "text/plain": [
       "'2002-01-03'"
      ]
     },
     "execution_count": 151,
     "metadata": {},
     "output_type": "execute_result"
    }
   ],
   "source": [
    "x=((stock-buy)/stock).nlargest(1).index[0]\n",
    "x"
   ]
  },
  {
   "cell_type": "code",
   "execution_count": 152,
   "metadata": {},
   "outputs": [
    {
     "data": {
      "text/plain": [
       "'2002-10-09'"
      ]
     },
     "execution_count": 152,
     "metadata": {},
     "output_type": "execute_result"
    }
   ],
   "source": [
    "y=stock[stock==buy[x]].index[0]\n",
    "y"
   ]
  },
  {
   "cell_type": "code",
   "execution_count": 157,
   "metadata": {},
   "outputs": [
    {
     "data": {
      "text/plain": [
       "89.72249226823338"
      ]
     },
     "execution_count": 157,
     "metadata": {},
     "output_type": "execute_result"
    }
   ],
   "source": [
    "loss=(stock[x]-stock[y])/stock[x]*100\n",
    "loss"
   ]
  }
 ],
 "metadata": {
  "kernelspec": {
   "display_name": "Python 3",
   "language": "python",
   "name": "python3"
  },
  "language_info": {
   "codemirror_mode": {
    "name": "ipython",
    "version": 3
   },
   "file_extension": ".py",
   "mimetype": "text/x-python",
   "name": "python",
   "nbconvert_exporter": "python",
   "pygments_lexer": "ipython3",
   "version": "3.6.5"
  }
 },
 "nbformat": 4,
 "nbformat_minor": 1
}
